{
 "cells": [
  {
   "cell_type": "code",
   "execution_count": 1,
   "metadata": {},
   "outputs": [],
   "source": [
    "import random"
   ]
  },
  {
   "cell_type": "code",
   "execution_count": 2,
   "metadata": {},
   "outputs": [],
   "source": [
    "class Player:\n",
    "    def __init__(self, name):\n",
    "        self.name = name\n",
    "        self.cards = []\n",
    "    \n",
    "    def draw_cards(self, deck, count=1):\n",
    "        for _ in range(count):\n",
    "            if deck:\n",
    "                self.cards.append(deck.pop())\n",
    "\n",
    "    def play_card(self):\n",
    "        if not self.cards:\n",
    "            return None\n",
    "        return self.cards.pop(random.randint(0, len(self.cards) - 1))\n",
    "\n",
    "    def receive_cards(self, cards):\n",
    "        self.cards.extend(cards)\n"
   ]
  },
  {
   "cell_type": "code",
   "execution_count": 3,
   "metadata": {},
   "outputs": [],
   "source": [
    "def create_deck():\n",
    "    return [(rank, suit) for suit in ['hearts', 'diamonds', 'clubs', 'spades'] for rank in range(9, 15)]\n"
   ]
  },
  {
   "cell_type": "code",
   "execution_count": 4,
   "metadata": {},
   "outputs": [],
   "source": [
    "def shuffle_and_deal(players, deck):\n",
    "    random.shuffle(deck)\n",
    "    for player in players:\n",
    "        player.draw_cards(deck, 8)  # Każdy gracz otrzymuje 8 kart\n"
   ]
  },
  {
   "cell_type": "code",
   "execution_count": 5,
   "metadata": {},
   "outputs": [],
   "source": [
    "class Game:\n",
    "    def __init__(self, players):\n",
    "        self.deck = create_deck()\n",
    "        self.players = players\n",
    "        self.pile = []  # Stos kart w grze\n",
    "        shuffle_and_deal(players, self.deck)\n",
    "\n",
    "    def play_round(self):\n",
    "        for player in self.players:\n",
    "            if not player.cards:  # Sprawdzanie czy gracz już nie wygrał\n",
    "                return player\n",
    "            card = player.play_card()\n",
    "            if card:\n",
    "                self.pile.append(card)\n",
    "                print(f\"{player.name} plays {card}\")\n",
    "            else:\n",
    "                player.draw_cards(self.deck, 3)  # Gracz bierze trzy karty jeśli nie może zagrać\n"
   ]
  },
  {
   "cell_type": "code",
   "execution_count": 6,
   "metadata": {},
   "outputs": [
    {
     "name": "stdout",
     "output_type": "stream",
     "text": [
      "Alice plays (14, 'spades')\n",
      "Bob plays (10, 'diamonds')\n",
      "Alice plays (12, 'spades')\n",
      "Bob plays (13, 'diamonds')\n",
      "Alice plays (11, 'clubs')\n",
      "Bob plays (12, 'hearts')\n",
      "Alice plays (10, 'hearts')\n",
      "Bob plays (12, 'clubs')\n",
      "Alice plays (9, 'clubs')\n",
      "Bob plays (14, 'diamonds')\n",
      "Alice plays (11, 'hearts')\n",
      "Bob plays (13, 'hearts')\n",
      "Alice plays (9, 'hearts')\n",
      "Bob plays (9, 'spades')\n",
      "Alice plays (10, 'clubs')\n",
      "Bob plays (13, 'spades')\n",
      "Winner is Alice\n"
     ]
    }
   ],
   "source": [
    "players = [Player(\"Alice\"), Player(\"Bob\")]\n",
    "game = Game(players)\n",
    "\n",
    "winner = None\n",
    "while not winner:\n",
    "    winner = game.play_round()\n",
    "    if winner:\n",
    "        print(f\"Winner is {winner.name}\")\n"
   ]
  }
 ],
 "metadata": {
  "kernelspec": {
   "display_name": "iswd",
   "language": "python",
   "name": "python3"
  },
  "language_info": {
   "codemirror_mode": {
    "name": "ipython",
    "version": 3
   },
   "file_extension": ".py",
   "mimetype": "text/x-python",
   "name": "python",
   "nbconvert_exporter": "python",
   "pygments_lexer": "ipython3",
   "version": "3.12.2"
  }
 },
 "nbformat": 4,
 "nbformat_minor": 2
}
